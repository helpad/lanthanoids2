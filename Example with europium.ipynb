{
 "cells": [
  {
   "cell_type": "markdown",
   "metadata": {},
   "source": [
    "# Example with europium"
   ]
  },
  {
   "cell_type": "markdown",
   "metadata": {},
   "source": [
    "## Call libraries"
   ]
  },
  {
   "cell_type": "code",
   "execution_count": 17,
   "metadata": {
    "collapsed": true
   },
   "outputs": [],
   "source": [
    "import numpy as np\n",
    "import scipy.optimize as opt"
   ]
  },
  {
   "cell_type": "markdown",
   "metadata": {},
   "source": [
    "## Def Function"
   ]
  },
  {
   "cell_type": "code",
   "execution_count": 18,
   "metadata": {
    "collapsed": true
   },
   "outputs": [],
   "source": [
    "def omega_eu(sigma_1,sigma_2,sigma_4,s_0,s_1,s_2,s_4,n):\n",
    "    '''\n",
    "    Experimental Omega2 and Omega4 calculation\n",
    "    '''\n",
    "    \n",
    "    sigma_1 = (sigma_1*10**(-7))**(-1)\n",
    "    sigma_2 = (sigma_2*10**(-7))**(-1)\n",
    "    sigma_4 = (sigma_4*10**(-7))**(-1)\n",
    "    A_1 = 0.31*(10**(-11))*(n**3)*(sigma_1**3)\n",
    "    A_2 = A_1*(s_2/s_1)*(sigma_1/sigma_2)\n",
    "    A_4 = A_1*(s_4/s_1)*(sigma_1/sigma_4)\n",
    "    xi = n*((n**2)+2)*((n**2)+2)/9\n",
    "    omega_2 = A_2/(2.33*(10**8)*(sigma_2**3)*xi)\n",
    "    omega_4 = A_4/(7.23*0.0023*(10**10)*(sigma_4**3)*xi)\n",
    "    p_2 = omega_2*(10**20)\n",
    "    p_4 = omega_4*(10**20)\n",
    "    R_2 = s_0/s_2\n",
    "    \n",
    "    \n",
    "    return {\"omega_2\":p_2,\"omega_4\":p_4,\"R_2\":R_2}\n",
    "\n",
    "def A_rad_cal(ordem,tao):\n",
    "    '''\n",
    "    order = order (1a = 1, 2a = 2)\n",
    "    \n",
    "    '''\n",
    "    A_total = 1/tao_1\n",
    "    A_rad = A_1+A_2+A_4\n",
    "    A_nrad = A_total - A_rad\n",
    "    nu = 100*A_rad/A_total\n",
    "    n_H2O = 1.05*(A_total-A_rad)/1000\n",
    "    return {\"A_total\":A_total,\"Anrad\":A_rad,\"\":Anrad,\"nH2O\":nH2O}\n",
    "    "
   ]
  },
  {
   "cell_type": "markdown",
   "metadata": {},
   "source": [
    "# Test Functions"
   ]
  },
  {
   "cell_type": "markdown",
   "metadata": {},
   "source": [
    "## Test 1"
   ]
  },
  {
   "cell_type": "code",
   "execution_count": 3,
   "metadata": {
    "collapsed": true
   },
   "outputs": [],
   "source": [
    "test1 = {'sigma_1':593.70525,'sigma_2':616.96156,'sigma_4':699.72905,\n",
    "         's_0':4046139,'s_1':18441480,'s_2':355656200,'s_4':34202190,'n':1.5}"
   ]
  },
  {
   "cell_type": "code",
   "execution_count": 4,
   "metadata": {},
   "outputs": [
    {
     "data": {
      "text/plain": [
       "dict_values([593.70525, 616.96156, 699.72905, 4046139, 18441480, 355656200, 34202190, 1.5])"
      ]
     },
     "execution_count": 4,
     "metadata": {},
     "output_type": "execute_result"
    }
   ],
   "source": [
    "test1.values()"
   ]
  },
  {
   "cell_type": "code",
   "execution_count": 5,
   "metadata": {},
   "outputs": [
    {
     "data": {
      "text/plain": [
       "{'R_2': 0.011376545664042972,\n",
       " 'omega_2': 33.54566604050167,\n",
       " 'omega_4': 7.478886321021174}"
      ]
     },
     "execution_count": 5,
     "metadata": {},
     "output_type": "execute_result"
    }
   ],
   "source": [
    "omega_eu(593.70525, 616.96156, 699.72905, 4046139, 18441480, 355656200, 34202190,1.5)"
   ]
  },
  {
   "cell_type": "code",
   "execution_count": 6,
   "metadata": {
    "collapsed": true
   },
   "outputs": [],
   "source": [
    "omega_test1=omega_eu(test1[\"sigma_1\"],test1[\"sigma_2\"],test1[\"sigma_4\"],test1[\"s_0\"],test1[\"s_1\"],test1[\"s_2\"],test1[\"s_4\"],test1[\"n\"])"
   ]
  },
  {
   "cell_type": "code",
   "execution_count": 7,
   "metadata": {},
   "outputs": [
    {
     "data": {
      "text/plain": [
       "0.011376545664042972"
      ]
     },
     "execution_count": 7,
     "metadata": {},
     "output_type": "execute_result"
    }
   ],
   "source": [
    "omega_test1[\"R_2\"]"
   ]
  },
  {
   "cell_type": "markdown",
   "metadata": {},
   "source": [
    "## Test 2"
   ]
  },
  {
   "cell_type": "code",
   "execution_count": 8,
   "metadata": {},
   "outputs": [
    {
     "name": "stdout",
     "output_type": "stream",
     "text": [
      "[  5.93705250e+02   6.16961560e+02   6.99729050e+02   4.04613900e+06\n",
      "   1.84414800e+07   3.55656200e+08   3.42021900e+07   1.50000000e+00]\n"
     ]
    },
    {
     "data": {
      "text/plain": [
       "array([  5.93705250e+02,   6.16961560e+02,   6.99729050e+02,\n",
       "         4.04613900e+06,   1.84414800e+07,   3.55656200e+08,\n",
       "         3.42021900e+07,   1.50000000e+00])"
      ]
     },
     "execution_count": 8,
     "metadata": {},
     "output_type": "execute_result"
    }
   ],
   "source": [
    "test2=np.array(list(test1.values()))\n",
    "print(test2)\n",
    "test2"
   ]
  },
  {
   "cell_type": "markdown",
   "metadata": {},
   "source": [
    "Random generation for testing"
   ]
  },
  {
   "cell_type": "code",
   "execution_count": 9,
   "metadata": {
    "collapsed": true
   },
   "outputs": [],
   "source": [
    "sample=np.array([[i*np.random.random_sample() for i in test2] for j in range(20)])"
   ]
  },
  {
   "cell_type": "code",
   "execution_count": 10,
   "metadata": {
    "scrolled": true
   },
   "outputs": [
    {
     "data": {
      "text/plain": [
       "array([  1.55468747e+02,   5.81685243e+02,   6.59158395e+02,\n",
       "         8.17391946e+05,   1.57245940e+07,   2.69322073e+07,\n",
       "         1.95825975e+07,   1.41698310e+00])"
      ]
     },
     "execution_count": 10,
     "metadata": {},
     "output_type": "execute_result"
    }
   ],
   "source": [
    "sample[1]"
   ]
  },
  {
   "cell_type": "code",
   "execution_count": 11,
   "metadata": {},
   "outputs": [
    {
     "name": "stdout",
     "output_type": "stream",
     "text": [
      "[  1.55468747e+02   5.81685243e+02   6.59158395e+02   8.17391946e+05\n",
      "   1.57245940e+07   2.69322073e+07   1.95825975e+07   1.41698310e+00]\n"
     ]
    }
   ],
   "source": [
    "print(sample[1])"
   ]
  },
  {
   "cell_type": "code",
   "execution_count": 12,
   "metadata": {
    "collapsed": true,
    "scrolled": true
   },
   "outputs": [],
   "source": [
    "sample_omega=[[i,omega_eu(sample[i][0],sample[i][1],sample[i][2],sample[i][3],sample[i][4],sample[i][5],sample[i][6],sample[i][7])] for i in range(20)]\n",
    "#print(sample_omega)"
   ]
  },
  {
   "cell_type": "code",
   "execution_count": 13,
   "metadata": {},
   "outputs": [
    {
     "data": {
      "text/plain": [
       "[502.3760600125403, 843.9642237021712, 0.03034997981640946]"
      ]
     },
     "execution_count": 13,
     "metadata": {},
     "output_type": "execute_result"
    }
   ],
   "source": [
    "[sample_omega[1][1][value] for value in [\"omega_2\",\"omega_4\",\"R_2\"]]"
   ]
  },
  {
   "cell_type": "code",
   "execution_count": 14,
   "metadata": {
    "collapsed": true
   },
   "outputs": [],
   "source": [
    "to_panda=np.array([[sample_omega[i][0],sample_omega[i][1][\"omega_2\"],sample_omega[i][1][\"omega_2\"]] for i in range(20)])\n",
    "#print(to_panda)"
   ]
  },
  {
   "cell_type": "markdown",
   "metadata": {},
   "source": [
    "For this kind of data panda can be  used"
   ]
  },
  {
   "cell_type": "code",
   "execution_count": 15,
   "metadata": {
    "collapsed": true
   },
   "outputs": [],
   "source": [
    "import pandas as pd\n"
   ]
  },
  {
   "cell_type": "code",
   "execution_count": 16,
   "metadata": {
    "scrolled": true
   },
   "outputs": [
    {
     "data": {
      "text/html": [
       "<div>\n",
       "<style>\n",
       "    .dataframe thead tr:only-child th {\n",
       "        text-align: right;\n",
       "    }\n",
       "\n",
       "    .dataframe thead th {\n",
       "        text-align: left;\n",
       "    }\n",
       "\n",
       "    .dataframe tbody tr th {\n",
       "        vertical-align: top;\n",
       "    }\n",
       "</style>\n",
       "<table border=\"1\" class=\"dataframe\">\n",
       "  <thead>\n",
       "    <tr style=\"text-align: right;\">\n",
       "      <th></th>\n",
       "      <th>i</th>\n",
       "      <th>omega_2</th>\n",
       "      <th>omega_4</th>\n",
       "    </tr>\n",
       "  </thead>\n",
       "  <tbody>\n",
       "    <tr>\n",
       "      <th>0</th>\n",
       "      <td>0.0</td>\n",
       "      <td>8.801015e+02</td>\n",
       "      <td>8.801015e+02</td>\n",
       "    </tr>\n",
       "    <tr>\n",
       "      <th>1</th>\n",
       "      <td>1.0</td>\n",
       "      <td>5.023761e+02</td>\n",
       "      <td>5.023761e+02</td>\n",
       "    </tr>\n",
       "    <tr>\n",
       "      <th>2</th>\n",
       "      <td>2.0</td>\n",
       "      <td>3.560649e+00</td>\n",
       "      <td>3.560649e+00</td>\n",
       "    </tr>\n",
       "    <tr>\n",
       "      <th>3</th>\n",
       "      <td>3.0</td>\n",
       "      <td>6.305401e+00</td>\n",
       "      <td>6.305401e+00</td>\n",
       "    </tr>\n",
       "    <tr>\n",
       "      <th>4</th>\n",
       "      <td>4.0</td>\n",
       "      <td>2.685059e-04</td>\n",
       "      <td>2.685059e-04</td>\n",
       "    </tr>\n",
       "    <tr>\n",
       "      <th>5</th>\n",
       "      <td>5.0</td>\n",
       "      <td>3.053681e+10</td>\n",
       "      <td>3.053681e+10</td>\n",
       "    </tr>\n",
       "    <tr>\n",
       "      <th>6</th>\n",
       "      <td>6.0</td>\n",
       "      <td>2.829266e+03</td>\n",
       "      <td>2.829266e+03</td>\n",
       "    </tr>\n",
       "    <tr>\n",
       "      <th>7</th>\n",
       "      <td>7.0</td>\n",
       "      <td>1.958000e-01</td>\n",
       "      <td>1.958000e-01</td>\n",
       "    </tr>\n",
       "    <tr>\n",
       "      <th>8</th>\n",
       "      <td>8.0</td>\n",
       "      <td>4.807691e+01</td>\n",
       "      <td>4.807691e+01</td>\n",
       "    </tr>\n",
       "    <tr>\n",
       "      <th>9</th>\n",
       "      <td>9.0</td>\n",
       "      <td>3.484087e+00</td>\n",
       "      <td>3.484087e+00</td>\n",
       "    </tr>\n",
       "    <tr>\n",
       "      <th>10</th>\n",
       "      <td>10.0</td>\n",
       "      <td>6.482972e+01</td>\n",
       "      <td>6.482972e+01</td>\n",
       "    </tr>\n",
       "    <tr>\n",
       "      <th>11</th>\n",
       "      <td>11.0</td>\n",
       "      <td>2.859300e+03</td>\n",
       "      <td>2.859300e+03</td>\n",
       "    </tr>\n",
       "    <tr>\n",
       "      <th>12</th>\n",
       "      <td>12.0</td>\n",
       "      <td>1.158265e+00</td>\n",
       "      <td>1.158265e+00</td>\n",
       "    </tr>\n",
       "    <tr>\n",
       "      <th>13</th>\n",
       "      <td>13.0</td>\n",
       "      <td>3.247643e+03</td>\n",
       "      <td>3.247643e+03</td>\n",
       "    </tr>\n",
       "    <tr>\n",
       "      <th>14</th>\n",
       "      <td>14.0</td>\n",
       "      <td>8.998913e+03</td>\n",
       "      <td>8.998913e+03</td>\n",
       "    </tr>\n",
       "    <tr>\n",
       "      <th>15</th>\n",
       "      <td>15.0</td>\n",
       "      <td>4.165655e+00</td>\n",
       "      <td>4.165655e+00</td>\n",
       "    </tr>\n",
       "    <tr>\n",
       "      <th>16</th>\n",
       "      <td>16.0</td>\n",
       "      <td>2.383869e+02</td>\n",
       "      <td>2.383869e+02</td>\n",
       "    </tr>\n",
       "    <tr>\n",
       "      <th>17</th>\n",
       "      <td>17.0</td>\n",
       "      <td>3.402618e+00</td>\n",
       "      <td>3.402618e+00</td>\n",
       "    </tr>\n",
       "    <tr>\n",
       "      <th>18</th>\n",
       "      <td>18.0</td>\n",
       "      <td>4.939818e-01</td>\n",
       "      <td>4.939818e-01</td>\n",
       "    </tr>\n",
       "    <tr>\n",
       "      <th>19</th>\n",
       "      <td>19.0</td>\n",
       "      <td>1.094960e-02</td>\n",
       "      <td>1.094960e-02</td>\n",
       "    </tr>\n",
       "  </tbody>\n",
       "</table>\n",
       "</div>"
      ],
      "text/plain": [
       "       i       omega_2       omega_4\n",
       "0    0.0  8.801015e+02  8.801015e+02\n",
       "1    1.0  5.023761e+02  5.023761e+02\n",
       "2    2.0  3.560649e+00  3.560649e+00\n",
       "3    3.0  6.305401e+00  6.305401e+00\n",
       "4    4.0  2.685059e-04  2.685059e-04\n",
       "5    5.0  3.053681e+10  3.053681e+10\n",
       "6    6.0  2.829266e+03  2.829266e+03\n",
       "7    7.0  1.958000e-01  1.958000e-01\n",
       "8    8.0  4.807691e+01  4.807691e+01\n",
       "9    9.0  3.484087e+00  3.484087e+00\n",
       "10  10.0  6.482972e+01  6.482972e+01\n",
       "11  11.0  2.859300e+03  2.859300e+03\n",
       "12  12.0  1.158265e+00  1.158265e+00\n",
       "13  13.0  3.247643e+03  3.247643e+03\n",
       "14  14.0  8.998913e+03  8.998913e+03\n",
       "15  15.0  4.165655e+00  4.165655e+00\n",
       "16  16.0  2.383869e+02  2.383869e+02\n",
       "17  17.0  3.402618e+00  3.402618e+00\n",
       "18  18.0  4.939818e-01  4.939818e-01\n",
       "19  19.0  1.094960e-02  1.094960e-02"
      ]
     },
     "execution_count": 16,
     "metadata": {},
     "output_type": "execute_result"
    }
   ],
   "source": [
    "pd.DataFrame(data=to_panda[0:,0:],columns=[\"i\",\"omega_2\",\"omega_4\"])"
   ]
  },
  {
   "cell_type": "code",
   "execution_count": null,
   "metadata": {
    "collapsed": true
   },
   "outputs": [],
   "source": []
  }
 ],
 "metadata": {
  "kernelspec": {
   "display_name": "Python 3",
   "language": "python",
   "name": "python3"
  },
  "language_info": {
   "codemirror_mode": {
    "name": "ipython",
    "version": 3
   },
   "file_extension": ".py",
   "mimetype": "text/x-python",
   "name": "python",
   "nbconvert_exporter": "python",
   "pygments_lexer": "ipython3",
   "version": "3.6.1"
  }
 },
 "nbformat": 4,
 "nbformat_minor": 2
}

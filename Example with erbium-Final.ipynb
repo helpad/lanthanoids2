{
 "cells": [
  {
   "cell_type": "markdown",
   "metadata": {},
   "source": [
    "# Example with Erbium"
   ]
  },
  {
   "cell_type": "markdown",
   "metadata": {},
   "source": [
    "## Call libraries"
   ]
  },
  {
   "cell_type": "code",
   "execution_count": 1,
   "metadata": {
    "collapsed": true
   },
   "outputs": [],
   "source": [
    "import numpy as np\n",
    "import scipy as sp\n",
    "import scipy.optimize as opt"
   ]
  },
  {
   "cell_type": "markdown",
   "metadata": {},
   "source": [
    "# Function"
   ]
  },
  {
   "cell_type": "code",
   "execution_count": 2,
   "metadata": {
    "collapsed": true
   },
   "outputs": [],
   "source": [
    "def S_cal(u,b):\n",
    "    def U_t_b(uu,bb):\n",
    "        return np.matmul(np.transpose(uu),bb)\n",
    "    def U_U_t(uu):\n",
    "        return np.matmul(np.transpose(uu),uu)\n",
    "    def omega(uu,bb):\n",
    "        return np.matmul(np.linalg.pinv(U_U_t(uu)),U_t_b(uu,bb))\n",
    "    return np.transpose(np.matmul(np.transpose(omega(u,b)),np.transpose(u)))"
   ]
  },
  {
   "cell_type": "code",
   "execution_count": 3,
   "metadata": {
    "collapsed": true
   },
   "outputs": [],
   "source": [
    "def Omega_Matrix(u,b):\n",
    "    def U_t_b(uu,bb):\n",
    "        return np.matmul(np.transpose(uu),bb)\n",
    "    def U_U_t(uu):\n",
    "        return np.matmul(np.transpose(uu),uu)\n",
    "    return np.matmul(np.linalg.pinv(U_U_t(u)),U_t_b(u,b))"
   ]
  },
  {
   "cell_type": "code",
   "execution_count": 4,
   "metadata": {
    "collapsed": true
   },
   "outputs": [],
   "source": [
    "def S_the(omega,u):\n",
    "    return np.matmul(u,omega)"
   ]
  },
  {
   "cell_type": "code",
   "execution_count": null,
   "metadata": {
    "collapsed": true
   },
   "outputs": [],
   "source": []
  },
  {
   "cell_type": "code",
   "execution_count": null,
   "metadata": {
    "collapsed": true
   },
   "outputs": [],
   "source": []
  },
  {
   "cell_type": "code",
   "execution_count": 5,
   "metadata": {
    "collapsed": true
   },
   "outputs": [],
   "source": [
    "U2 = np.vstack(np.array([0.0195,\n",
    "                         0.0282,\n",
    "                         0,\n",
    "                         0,\n",
    "                         0,\n",
    "                         0.7125,\n",
    "                         0,\n",
    "                         #0,\n",
    "                         #0,\n",
    "                         #0,\n",
    "                         #0.9183\n",
    "]))\n",
    "U4 = np.vstack(np.array([0.1173,\n",
    "                         0.0003,\n",
    "                         0.1733,\n",
    "                         0.5354,\n",
    "                         0,\n",
    "                         0.4125,\n",
    "                         0.1469,\n",
    "                         #0,\n",
    "                         #0,\n",
    "                         #0.0189,\n",
    "                         #0.5262\n",
    "]))\n",
    "U6 = np.vstack(np.array([1.4316,\n",
    "                         0.3953,\n",
    "                         0.0099,\n",
    "                         0.461,\n",
    "                         0.2211,\n",
    "                         0.0925,\n",
    "                         0.6266,\n",
    "                         #0.2232,\n",
    "                         #0.1272,\n",
    "                         #0.2256,\n",
    "                         #0.1172\n",
    "]))"
   ]
  },
  {
   "cell_type": "code",
   "execution_count": 6,
   "metadata": {
    "collapsed": true
   },
   "outputs": [],
   "source": [
    "U = np.hstack((U2,U4,U6))"
   ]
  },
  {
   "cell_type": "code",
   "execution_count": 7,
   "metadata": {
    "collapsed": true
   },
   "outputs": [],
   "source": [
    "S_exp = np.vstack(np.array([1.972,\n",
    "                        \n",
    "                        \n",
    "                        0.554,\n",
    "                        1.125,\n",
    "                        3.029,\n",
    "                        0.180,\n",
    "                        9.474,\n",
    "                        1.111\n",
    "]))"
   ]
  },
  {
   "cell_type": "markdown",
   "metadata": {},
   "source": [
    "## Test 1"
   ]
  },
  {
   "cell_type": "code",
   "execution_count": 8,
   "metadata": {},
   "outputs": [
    {
     "name": "stdout",
     "output_type": "stream",
     "text": [
      "[[  1.95000000e-02   1.17300000e-01   1.43160000e+00]\n",
      " [  2.82000000e-02   3.00000000e-04   3.95300000e-01]\n",
      " [  0.00000000e+00   1.73300000e-01   9.90000000e-03]\n",
      " [  0.00000000e+00   5.35400000e-01   4.61000000e-01]\n",
      " [  0.00000000e+00   0.00000000e+00   2.21100000e-01]\n",
      " [  7.12500000e-01   4.12500000e-01   9.25000000e-02]\n",
      " [  0.00000000e+00   1.46900000e-01   6.26600000e-01]]\n",
      "[[ 1.972]\n",
      " [ 0.554]\n",
      " [ 1.125]\n",
      " [ 3.029]\n",
      " [ 0.18 ]\n",
      " [ 9.474]\n",
      " [ 1.111]]\n"
     ]
    }
   ],
   "source": [
    "print(U)\n",
    "print(S_exp)"
   ]
  },
  {
   "cell_type": "code",
   "execution_count": 9,
   "metadata": {},
   "outputs": [
    {
     "name": "stdout",
     "output_type": "stream",
     "text": [
      "[[ 10.2402257 ]\n",
      " [  5.10966431]\n",
      " [  0.76457002]]\n"
     ]
    }
   ],
   "source": [
    "Omega_Matrix(U,S_exp)\n",
    "S_cal(U,S_exp)\n",
    "print(Omega_Matrix(U,S_exp))"
   ]
  },
  {
   "cell_type": "code",
   "execution_count": 10,
   "metadata": {},
   "outputs": [
    {
     "name": "stdout",
     "output_type": "stream",
     "text": [
      "0.0113043652446\n"
     ]
    }
   ],
   "source": [
    "def chi_squa(omega,U,S_exp):\n",
    "    return np.sum(np.subtract(S_the(omega,U),S_exp)**2/(len(S_exp-3)))\n",
    "print(chi_squa(Omega_Matrix(U,S_exp),U,S_exp))"
   ]
  },
  {
   "cell_type": "code",
   "execution_count": 11,
   "metadata": {},
   "outputs": [
    {
     "name": "stdout",
     "output_type": "stream",
     "text": [
      "0.106321988528\n"
     ]
    }
   ],
   "source": [
    "def RMS(omega,U,S_exp):\n",
    "    return chi_squa(omega,U,S_exp)**(1/2)\n",
    "print(RMS(Omega_Matrix(U,S_exp),U,S_exp))"
   ]
  },
  {
   "cell_type": "code",
   "execution_count": 12,
   "metadata": {},
   "outputs": [
    {
     "name": "stdout",
     "output_type": "stream",
     "text": [
      "[  2.07327878e-03   3.18965966e-05   1.05258769e-03]\n"
     ]
    }
   ],
   "source": [
    "def S_err(omega,U,S_exp):\n",
    "    return RMS(omega,U,S_exp)*np.diag(U)\n",
    "print(S_err(Omega_Matrix(U,S_exp),U,S_exp))"
   ]
  },
  {
   "cell_type": "markdown",
   "metadata": {},
   "source": [
    "## with Scipy"
   ]
  },
  {
   "cell_type": "code",
   "execution_count": 13,
   "metadata": {},
   "outputs": [
    {
     "data": {
      "text/plain": [
       "-0.10424086452155282"
      ]
     },
     "execution_count": 13,
     "metadata": {},
     "output_type": "execute_result"
    }
   ],
   "source": [
    "def diff(omega,U,S_exp):\n",
    "    return np.sum(np.subtract(S_the(omega,U),S_exp))\n",
    "diff(Omega_Matrix(U,S_exp),U,S_exp)"
   ]
  },
  {
   "cell_type": "code",
   "execution_count": 14,
   "metadata": {},
   "outputs": [
    {
     "data": {
      "text/plain": [
       "array([ 10.07585773,   5.13827421,   0.82310882])"
      ]
     },
     "execution_count": 14,
     "metadata": {},
     "output_type": "execute_result"
    }
   ],
   "source": [
    "opt.least_squares(diff,[10,5,0.5],args=(U,S_exp),ftol=1e-15,gtol=1e-15,xtol=1e-15).x"
   ]
  },
  {
   "cell_type": "code",
   "execution_count": null,
   "metadata": {
    "collapsed": true
   },
   "outputs": [],
   "source": []
  },
  {
   "cell_type": "code",
   "execution_count": 15,
   "metadata": {
    "collapsed": true
   },
   "outputs": [],
   "source": [
    "def chi_squared(diff, U, S_exp):\n",
    "    return "
   ]
  },
  {
   "cell_type": "markdown",
   "metadata": {
    "collapsed": true
   },
   "source": [
    "Working with pandas"
   ]
  },
  {
   "cell_type": "code",
   "execution_count": 16,
   "metadata": {
    "collapsed": true
   },
   "outputs": [],
   "source": [
    "sample=np.array([[i*np.random.random_sample() for i in np.array([1.972,0.554,1.125,3.029,0.180,9.474,1.111])] for j in range(20)])"
   ]
  },
  {
   "cell_type": "code",
   "execution_count": 17,
   "metadata": {
    "collapsed": true
   },
   "outputs": [],
   "source": [
    "import pandas as pd"
   ]
  },
  {
   "cell_type": "code",
   "execution_count": 18,
   "metadata": {
    "collapsed": true
   },
   "outputs": [],
   "source": [
    "sample=pd.DataFrame(data=sample[0:,0:],columns=[\"i\",\"S1\",\"S2\",\"S3\",\"S4\",\"S5\",\"S6\"])"
   ]
  },
  {
   "cell_type": "code",
   "execution_count": null,
   "metadata": {
    "collapsed": true
   },
   "outputs": [],
   "source": []
  }
 ],
 "metadata": {
  "kernelspec": {
   "display_name": "Python 3",
   "language": "python",
   "name": "python3"
  },
  "language_info": {
   "codemirror_mode": {
    "name": "ipython",
    "version": 3
   },
   "file_extension": ".py",
   "mimetype": "text/x-python",
   "name": "python",
   "nbconvert_exporter": "python",
   "pygments_lexer": "ipython3",
   "version": "3.6.1"
  }
 },
 "nbformat": 4,
 "nbformat_minor": 2
}
